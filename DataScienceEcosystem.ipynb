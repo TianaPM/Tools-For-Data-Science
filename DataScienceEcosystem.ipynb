{
 "cells": [
  {
   "cell_type": "markdown",
   "id": "f42853aa",
   "metadata": {},
   "source": [
    "# Data Science Tools and Ecosystem"
   ]
  },
  {
   "cell_type": "markdown",
   "id": "e1db5cc6",
   "metadata": {},
   "source": [
    "## Author\n",
    "Tiana Phillips"
   ]
  },
  {
   "cell_type": "markdown",
   "id": "71691d55",
   "metadata": {},
   "source": [
    "In this notebook, Data Science Tools and Ecosystem are summarized. "
   ]
  },
  {
   "cell_type": "markdown",
   "id": "a38665c9",
   "metadata": {},
   "source": [
    "**Objectives**\n",
    "- List popular languages for Data Science\n",
    "- List popular tools for Data Science\n",
    "- List popular libraries for Data Science\n",
    "- Practice how to use markdown cells\n",
    "- Practice with using code cells"
   ]
  },
  {
   "cell_type": "markdown",
   "id": "7d3e967d",
   "metadata": {},
   "source": [
    "Some of the populare languages that Data Scientists uses are:<br>\n",
    "    1. Python <br>\n",
    "    2. R <br>\n",
    "    3. SQL<br>\n",
    "    4. C++<br>\n",
    "    5. Scala<br>"
   ]
  },
  {
   "cell_type": "markdown",
   "id": "38487099",
   "metadata": {},
   "source": [
    "Some of the commonly used libraries used by Data Scientists include: <br>\n",
    "    1. ggplot2 <br>\n",
    "    2. matplotlib <br>\n",
    "    3. caret <br>\n",
    "    4. Numpy <br>\n",
    "    5. Pandas <br>"
   ]
  },
  {
   "cell_type": "markdown",
   "id": "a0e25a74",
   "metadata": {},
   "source": [
    "|Data Science Tools|\n",
    "|------------------|\n",
    "|GitHub|\n",
    "|Anaconda|\n",
    "|Watson Studio|\n",
    "|RStudio|"
   ]
  },
  {
   "cell_type": "markdown",
   "id": "e6db9b90",
   "metadata": {},
   "source": [
    "### Below are a few examples of evaluating arithmetic expressions in Python. "
   ]
  },
  {
   "cell_type": "code",
   "execution_count": 4,
   "id": "f82c641b",
   "metadata": {},
   "outputs": [
    {
     "data": {
      "text/plain": [
       "17"
      ]
     },
     "execution_count": 4,
     "metadata": {},
     "output_type": "execute_result"
    }
   ],
   "source": [
    "# This is a simple arithmetic expression to multiply then add integers.\n",
    "(3*4)+5\n"
   ]
  },
  {
   "cell_type": "code",
   "execution_count": 5,
   "id": "20cfd42e",
   "metadata": {},
   "outputs": [
    {
     "data": {
      "text/plain": [
       "3.3333333333333335"
      ]
     },
     "execution_count": 5,
     "metadata": {},
     "output_type": "execute_result"
    }
   ],
   "source": [
    "#This will convert 200 minutes to hours by dividing by 60\n",
    "200/60"
   ]
  },
  {
   "cell_type": "markdown",
   "id": "de024e19",
   "metadata": {},
   "source": []
  }
 ],
 "metadata": {
  "kernelspec": {
   "display_name": "Python 3 (ipykernel)",
   "language": "python",
   "name": "python3"
  },
  "language_info": {
   "codemirror_mode": {
    "name": "ipython",
    "version": 3
   },
   "file_extension": ".py",
   "mimetype": "text/x-python",
   "name": "python",
   "nbconvert_exporter": "python",
   "pygments_lexer": "ipython3",
   "version": "3.11.5"
  }
 },
 "nbformat": 4,
 "nbformat_minor": 5
}
